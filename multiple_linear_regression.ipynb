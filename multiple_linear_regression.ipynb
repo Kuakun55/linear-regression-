{
  "nbformat": 4,
  "nbformat_minor": 0,
  "metadata": {
    "colab": {
      "provenance": [],
      "authorship_tag": "ABX9TyNcp0bqutrZtNK2mu9lHkRg",
      "include_colab_link": true
    },
    "kernelspec": {
      "name": "python3",
      "display_name": "Python 3"
    },
    "language_info": {
      "name": "python"
    }
  },
  "cells": [
    {
      "cell_type": "markdown",
      "metadata": {
        "id": "view-in-github",
        "colab_type": "text"
      },
      "source": [
        "<a href=\"https://colab.research.google.com/github/Kuakun55/linear-regression-/blob/main/multiple_linear_regression.ipynb\" target=\"_parent\"><img src=\"https://colab.research.google.com/assets/colab-badge.svg\" alt=\"Open In Colab\"/></a>"
      ]
    },
    {
      "cell_type": "code",
      "execution_count": null,
      "metadata": {
        "id": "AQkQzBvmbj0t"
      },
      "outputs": [],
      "source": [
        "import pandas as pd\n",
        "import matplotlib.pyplot as plt\n",
        "from sklearn.linear_model import LinearRegression\n",
        "import numpy as np"
      ]
    },
    {
      "cell_type": "code",
      "source": [
        "df=pd.read_csv('/content/MSFT.csv')\n",
        "df"
      ],
      "metadata": {
        "colab": {
          "base_uri": "https://localhost:8080/",
          "height": 424
        },
        "id": "Gi0ZBKwhhElU",
        "outputId": "93d0f444-1bfa-4672-f6a6-ea124fd2d991"
      },
      "execution_count": null,
      "outputs": [
        {
          "output_type": "execute_result",
          "data": {
            "text/plain": [
              "           Date        Open        High         Low       Close   Adj Close  \\\n",
              "0    2022-08-22  282.079987  282.459991  277.220001  277.750000  276.277466   \n",
              "1    2022-08-23  276.440002  278.859985  275.399994  276.440002  274.974396   \n",
              "2    2022-08-24  275.410004  277.230011  275.109985  275.790009  274.327850   \n",
              "3    2022-08-25  277.329987  279.019989  274.519989  278.850006  277.371643   \n",
              "4    2022-08-26  279.079987  280.339996  267.980011  268.089996  266.668671   \n",
              "..          ...         ...         ...         ...         ...         ...   \n",
              "120  2023-02-13  267.640015  274.600006  267.149994  271.320007  270.642120   \n",
              "121  2023-02-14  272.670013  274.970001  269.279999  272.170013  271.490021   \n",
              "122  2023-02-15  268.320007  270.730011  266.179993  269.320007  269.320007   \n",
              "123  2023-02-16  264.019989  266.739990  261.899994  262.149994  262.149994   \n",
              "124  2023-02-17  259.390015  260.089996  256.000000  258.059998  258.059998   \n",
              "\n",
              "       Volume  \n",
              "0    25061100  \n",
              "1    17527400  \n",
              "2    18137000  \n",
              "3    16583400  \n",
              "4    27549300  \n",
              "..        ...  \n",
              "120  44630900  \n",
              "121  37047900  \n",
              "122  28962200  \n",
              "123  29603600  \n",
              "124  29979600  \n",
              "\n",
              "[125 rows x 7 columns]"
            ],
            "text/html": [
              "\n",
              "  <div id=\"df-9227cc48-6fbf-45a0-bcd1-a8c2025f19ad\">\n",
              "    <div class=\"colab-df-container\">\n",
              "      <div>\n",
              "<style scoped>\n",
              "    .dataframe tbody tr th:only-of-type {\n",
              "        vertical-align: middle;\n",
              "    }\n",
              "\n",
              "    .dataframe tbody tr th {\n",
              "        vertical-align: top;\n",
              "    }\n",
              "\n",
              "    .dataframe thead th {\n",
              "        text-align: right;\n",
              "    }\n",
              "</style>\n",
              "<table border=\"1\" class=\"dataframe\">\n",
              "  <thead>\n",
              "    <tr style=\"text-align: right;\">\n",
              "      <th></th>\n",
              "      <th>Date</th>\n",
              "      <th>Open</th>\n",
              "      <th>High</th>\n",
              "      <th>Low</th>\n",
              "      <th>Close</th>\n",
              "      <th>Adj Close</th>\n",
              "      <th>Volume</th>\n",
              "    </tr>\n",
              "  </thead>\n",
              "  <tbody>\n",
              "    <tr>\n",
              "      <th>0</th>\n",
              "      <td>2022-08-22</td>\n",
              "      <td>282.079987</td>\n",
              "      <td>282.459991</td>\n",
              "      <td>277.220001</td>\n",
              "      <td>277.750000</td>\n",
              "      <td>276.277466</td>\n",
              "      <td>25061100</td>\n",
              "    </tr>\n",
              "    <tr>\n",
              "      <th>1</th>\n",
              "      <td>2022-08-23</td>\n",
              "      <td>276.440002</td>\n",
              "      <td>278.859985</td>\n",
              "      <td>275.399994</td>\n",
              "      <td>276.440002</td>\n",
              "      <td>274.974396</td>\n",
              "      <td>17527400</td>\n",
              "    </tr>\n",
              "    <tr>\n",
              "      <th>2</th>\n",
              "      <td>2022-08-24</td>\n",
              "      <td>275.410004</td>\n",
              "      <td>277.230011</td>\n",
              "      <td>275.109985</td>\n",
              "      <td>275.790009</td>\n",
              "      <td>274.327850</td>\n",
              "      <td>18137000</td>\n",
              "    </tr>\n",
              "    <tr>\n",
              "      <th>3</th>\n",
              "      <td>2022-08-25</td>\n",
              "      <td>277.329987</td>\n",
              "      <td>279.019989</td>\n",
              "      <td>274.519989</td>\n",
              "      <td>278.850006</td>\n",
              "      <td>277.371643</td>\n",
              "      <td>16583400</td>\n",
              "    </tr>\n",
              "    <tr>\n",
              "      <th>4</th>\n",
              "      <td>2022-08-26</td>\n",
              "      <td>279.079987</td>\n",
              "      <td>280.339996</td>\n",
              "      <td>267.980011</td>\n",
              "      <td>268.089996</td>\n",
              "      <td>266.668671</td>\n",
              "      <td>27549300</td>\n",
              "    </tr>\n",
              "    <tr>\n",
              "      <th>...</th>\n",
              "      <td>...</td>\n",
              "      <td>...</td>\n",
              "      <td>...</td>\n",
              "      <td>...</td>\n",
              "      <td>...</td>\n",
              "      <td>...</td>\n",
              "      <td>...</td>\n",
              "    </tr>\n",
              "    <tr>\n",
              "      <th>120</th>\n",
              "      <td>2023-02-13</td>\n",
              "      <td>267.640015</td>\n",
              "      <td>274.600006</td>\n",
              "      <td>267.149994</td>\n",
              "      <td>271.320007</td>\n",
              "      <td>270.642120</td>\n",
              "      <td>44630900</td>\n",
              "    </tr>\n",
              "    <tr>\n",
              "      <th>121</th>\n",
              "      <td>2023-02-14</td>\n",
              "      <td>272.670013</td>\n",
              "      <td>274.970001</td>\n",
              "      <td>269.279999</td>\n",
              "      <td>272.170013</td>\n",
              "      <td>271.490021</td>\n",
              "      <td>37047900</td>\n",
              "    </tr>\n",
              "    <tr>\n",
              "      <th>122</th>\n",
              "      <td>2023-02-15</td>\n",
              "      <td>268.320007</td>\n",
              "      <td>270.730011</td>\n",
              "      <td>266.179993</td>\n",
              "      <td>269.320007</td>\n",
              "      <td>269.320007</td>\n",
              "      <td>28962200</td>\n",
              "    </tr>\n",
              "    <tr>\n",
              "      <th>123</th>\n",
              "      <td>2023-02-16</td>\n",
              "      <td>264.019989</td>\n",
              "      <td>266.739990</td>\n",
              "      <td>261.899994</td>\n",
              "      <td>262.149994</td>\n",
              "      <td>262.149994</td>\n",
              "      <td>29603600</td>\n",
              "    </tr>\n",
              "    <tr>\n",
              "      <th>124</th>\n",
              "      <td>2023-02-17</td>\n",
              "      <td>259.390015</td>\n",
              "      <td>260.089996</td>\n",
              "      <td>256.000000</td>\n",
              "      <td>258.059998</td>\n",
              "      <td>258.059998</td>\n",
              "      <td>29979600</td>\n",
              "    </tr>\n",
              "  </tbody>\n",
              "</table>\n",
              "<p>125 rows × 7 columns</p>\n",
              "</div>\n",
              "      <button class=\"colab-df-convert\" onclick=\"convertToInteractive('df-9227cc48-6fbf-45a0-bcd1-a8c2025f19ad')\"\n",
              "              title=\"Convert this dataframe to an interactive table.\"\n",
              "              style=\"display:none;\">\n",
              "        \n",
              "  <svg xmlns=\"http://www.w3.org/2000/svg\" height=\"24px\"viewBox=\"0 0 24 24\"\n",
              "       width=\"24px\">\n",
              "    <path d=\"M0 0h24v24H0V0z\" fill=\"none\"/>\n",
              "    <path d=\"M18.56 5.44l.94 2.06.94-2.06 2.06-.94-2.06-.94-.94-2.06-.94 2.06-2.06.94zm-11 1L8.5 8.5l.94-2.06 2.06-.94-2.06-.94L8.5 2.5l-.94 2.06-2.06.94zm10 10l.94 2.06.94-2.06 2.06-.94-2.06-.94-.94-2.06-.94 2.06-2.06.94z\"/><path d=\"M17.41 7.96l-1.37-1.37c-.4-.4-.92-.59-1.43-.59-.52 0-1.04.2-1.43.59L10.3 9.45l-7.72 7.72c-.78.78-.78 2.05 0 2.83L4 21.41c.39.39.9.59 1.41.59.51 0 1.02-.2 1.41-.59l7.78-7.78 2.81-2.81c.8-.78.8-2.07 0-2.86zM5.41 20L4 18.59l7.72-7.72 1.47 1.35L5.41 20z\"/>\n",
              "  </svg>\n",
              "      </button>\n",
              "      \n",
              "  <style>\n",
              "    .colab-df-container {\n",
              "      display:flex;\n",
              "      flex-wrap:wrap;\n",
              "      gap: 12px;\n",
              "    }\n",
              "\n",
              "    .colab-df-convert {\n",
              "      background-color: #E8F0FE;\n",
              "      border: none;\n",
              "      border-radius: 50%;\n",
              "      cursor: pointer;\n",
              "      display: none;\n",
              "      fill: #1967D2;\n",
              "      height: 32px;\n",
              "      padding: 0 0 0 0;\n",
              "      width: 32px;\n",
              "    }\n",
              "\n",
              "    .colab-df-convert:hover {\n",
              "      background-color: #E2EBFA;\n",
              "      box-shadow: 0px 1px 2px rgba(60, 64, 67, 0.3), 0px 1px 3px 1px rgba(60, 64, 67, 0.15);\n",
              "      fill: #174EA6;\n",
              "    }\n",
              "\n",
              "    [theme=dark] .colab-df-convert {\n",
              "      background-color: #3B4455;\n",
              "      fill: #D2E3FC;\n",
              "    }\n",
              "\n",
              "    [theme=dark] .colab-df-convert:hover {\n",
              "      background-color: #434B5C;\n",
              "      box-shadow: 0px 1px 3px 1px rgba(0, 0, 0, 0.15);\n",
              "      filter: drop-shadow(0px 1px 2px rgba(0, 0, 0, 0.3));\n",
              "      fill: #FFFFFF;\n",
              "    }\n",
              "  </style>\n",
              "\n",
              "      <script>\n",
              "        const buttonEl =\n",
              "          document.querySelector('#df-9227cc48-6fbf-45a0-bcd1-a8c2025f19ad button.colab-df-convert');\n",
              "        buttonEl.style.display =\n",
              "          google.colab.kernel.accessAllowed ? 'block' : 'none';\n",
              "\n",
              "        async function convertToInteractive(key) {\n",
              "          const element = document.querySelector('#df-9227cc48-6fbf-45a0-bcd1-a8c2025f19ad');\n",
              "          const dataTable =\n",
              "            await google.colab.kernel.invokeFunction('convertToInteractive',\n",
              "                                                     [key], {});\n",
              "          if (!dataTable) return;\n",
              "\n",
              "          const docLinkHtml = 'Like what you see? Visit the ' +\n",
              "            '<a target=\"_blank\" href=https://colab.research.google.com/notebooks/data_table.ipynb>data table notebook</a>'\n",
              "            + ' to learn more about interactive tables.';\n",
              "          element.innerHTML = '';\n",
              "          dataTable['output_type'] = 'display_data';\n",
              "          await google.colab.output.renderOutput(dataTable, element);\n",
              "          const docLink = document.createElement('div');\n",
              "          docLink.innerHTML = docLinkHtml;\n",
              "          element.appendChild(docLink);\n",
              "        }\n",
              "      </script>\n",
              "    </div>\n",
              "  </div>\n",
              "  "
            ]
          },
          "metadata": {},
          "execution_count": 3
        }
      ]
    },
    {
      "cell_type": "code",
      "source": [
        "df.corr()"
      ],
      "metadata": {
        "colab": {
          "base_uri": "https://localhost:8080/",
          "height": 237
        },
        "id": "FOB6ukQghU7K",
        "outputId": "e75cd1a5-c6b6-40bc-af38-8d155e2905d6"
      },
      "execution_count": null,
      "outputs": [
        {
          "output_type": "execute_result",
          "data": {
            "text/plain": [
              "               Open      High       Low     Close  Adj Close    Volume\n",
              "Open       1.000000  0.981200  0.983168  0.949086   0.948081 -0.147304\n",
              "High       0.981200  1.000000  0.982892  0.979772   0.978666 -0.090335\n",
              "Low        0.983168  0.982892  1.000000  0.980208   0.979669 -0.181223\n",
              "Close      0.949086  0.979772  0.980208  1.000000   0.999613 -0.138078\n",
              "Adj Close  0.948081  0.978666  0.979669  0.999613   1.000000 -0.135669\n",
              "Volume    -0.147304 -0.090335 -0.181223 -0.138078  -0.135669  1.000000"
            ],
            "text/html": [
              "\n",
              "  <div id=\"df-d5311f56-4a1a-435b-a0a9-419f46c7363b\">\n",
              "    <div class=\"colab-df-container\">\n",
              "      <div>\n",
              "<style scoped>\n",
              "    .dataframe tbody tr th:only-of-type {\n",
              "        vertical-align: middle;\n",
              "    }\n",
              "\n",
              "    .dataframe tbody tr th {\n",
              "        vertical-align: top;\n",
              "    }\n",
              "\n",
              "    .dataframe thead th {\n",
              "        text-align: right;\n",
              "    }\n",
              "</style>\n",
              "<table border=\"1\" class=\"dataframe\">\n",
              "  <thead>\n",
              "    <tr style=\"text-align: right;\">\n",
              "      <th></th>\n",
              "      <th>Open</th>\n",
              "      <th>High</th>\n",
              "      <th>Low</th>\n",
              "      <th>Close</th>\n",
              "      <th>Adj Close</th>\n",
              "      <th>Volume</th>\n",
              "    </tr>\n",
              "  </thead>\n",
              "  <tbody>\n",
              "    <tr>\n",
              "      <th>Open</th>\n",
              "      <td>1.000000</td>\n",
              "      <td>0.981200</td>\n",
              "      <td>0.983168</td>\n",
              "      <td>0.949086</td>\n",
              "      <td>0.948081</td>\n",
              "      <td>-0.147304</td>\n",
              "    </tr>\n",
              "    <tr>\n",
              "      <th>High</th>\n",
              "      <td>0.981200</td>\n",
              "      <td>1.000000</td>\n",
              "      <td>0.982892</td>\n",
              "      <td>0.979772</td>\n",
              "      <td>0.978666</td>\n",
              "      <td>-0.090335</td>\n",
              "    </tr>\n",
              "    <tr>\n",
              "      <th>Low</th>\n",
              "      <td>0.983168</td>\n",
              "      <td>0.982892</td>\n",
              "      <td>1.000000</td>\n",
              "      <td>0.980208</td>\n",
              "      <td>0.979669</td>\n",
              "      <td>-0.181223</td>\n",
              "    </tr>\n",
              "    <tr>\n",
              "      <th>Close</th>\n",
              "      <td>0.949086</td>\n",
              "      <td>0.979772</td>\n",
              "      <td>0.980208</td>\n",
              "      <td>1.000000</td>\n",
              "      <td>0.999613</td>\n",
              "      <td>-0.138078</td>\n",
              "    </tr>\n",
              "    <tr>\n",
              "      <th>Adj Close</th>\n",
              "      <td>0.948081</td>\n",
              "      <td>0.978666</td>\n",
              "      <td>0.979669</td>\n",
              "      <td>0.999613</td>\n",
              "      <td>1.000000</td>\n",
              "      <td>-0.135669</td>\n",
              "    </tr>\n",
              "    <tr>\n",
              "      <th>Volume</th>\n",
              "      <td>-0.147304</td>\n",
              "      <td>-0.090335</td>\n",
              "      <td>-0.181223</td>\n",
              "      <td>-0.138078</td>\n",
              "      <td>-0.135669</td>\n",
              "      <td>1.000000</td>\n",
              "    </tr>\n",
              "  </tbody>\n",
              "</table>\n",
              "</div>\n",
              "      <button class=\"colab-df-convert\" onclick=\"convertToInteractive('df-d5311f56-4a1a-435b-a0a9-419f46c7363b')\"\n",
              "              title=\"Convert this dataframe to an interactive table.\"\n",
              "              style=\"display:none;\">\n",
              "        \n",
              "  <svg xmlns=\"http://www.w3.org/2000/svg\" height=\"24px\"viewBox=\"0 0 24 24\"\n",
              "       width=\"24px\">\n",
              "    <path d=\"M0 0h24v24H0V0z\" fill=\"none\"/>\n",
              "    <path d=\"M18.56 5.44l.94 2.06.94-2.06 2.06-.94-2.06-.94-.94-2.06-.94 2.06-2.06.94zm-11 1L8.5 8.5l.94-2.06 2.06-.94-2.06-.94L8.5 2.5l-.94 2.06-2.06.94zm10 10l.94 2.06.94-2.06 2.06-.94-2.06-.94-.94-2.06-.94 2.06-2.06.94z\"/><path d=\"M17.41 7.96l-1.37-1.37c-.4-.4-.92-.59-1.43-.59-.52 0-1.04.2-1.43.59L10.3 9.45l-7.72 7.72c-.78.78-.78 2.05 0 2.83L4 21.41c.39.39.9.59 1.41.59.51 0 1.02-.2 1.41-.59l7.78-7.78 2.81-2.81c.8-.78.8-2.07 0-2.86zM5.41 20L4 18.59l7.72-7.72 1.47 1.35L5.41 20z\"/>\n",
              "  </svg>\n",
              "      </button>\n",
              "      \n",
              "  <style>\n",
              "    .colab-df-container {\n",
              "      display:flex;\n",
              "      flex-wrap:wrap;\n",
              "      gap: 12px;\n",
              "    }\n",
              "\n",
              "    .colab-df-convert {\n",
              "      background-color: #E8F0FE;\n",
              "      border: none;\n",
              "      border-radius: 50%;\n",
              "      cursor: pointer;\n",
              "      display: none;\n",
              "      fill: #1967D2;\n",
              "      height: 32px;\n",
              "      padding: 0 0 0 0;\n",
              "      width: 32px;\n",
              "    }\n",
              "\n",
              "    .colab-df-convert:hover {\n",
              "      background-color: #E2EBFA;\n",
              "      box-shadow: 0px 1px 2px rgba(60, 64, 67, 0.3), 0px 1px 3px 1px rgba(60, 64, 67, 0.15);\n",
              "      fill: #174EA6;\n",
              "    }\n",
              "\n",
              "    [theme=dark] .colab-df-convert {\n",
              "      background-color: #3B4455;\n",
              "      fill: #D2E3FC;\n",
              "    }\n",
              "\n",
              "    [theme=dark] .colab-df-convert:hover {\n",
              "      background-color: #434B5C;\n",
              "      box-shadow: 0px 1px 3px 1px rgba(0, 0, 0, 0.15);\n",
              "      filter: drop-shadow(0px 1px 2px rgba(0, 0, 0, 0.3));\n",
              "      fill: #FFFFFF;\n",
              "    }\n",
              "  </style>\n",
              "\n",
              "      <script>\n",
              "        const buttonEl =\n",
              "          document.querySelector('#df-d5311f56-4a1a-435b-a0a9-419f46c7363b button.colab-df-convert');\n",
              "        buttonEl.style.display =\n",
              "          google.colab.kernel.accessAllowed ? 'block' : 'none';\n",
              "\n",
              "        async function convertToInteractive(key) {\n",
              "          const element = document.querySelector('#df-d5311f56-4a1a-435b-a0a9-419f46c7363b');\n",
              "          const dataTable =\n",
              "            await google.colab.kernel.invokeFunction('convertToInteractive',\n",
              "                                                     [key], {});\n",
              "          if (!dataTable) return;\n",
              "\n",
              "          const docLinkHtml = 'Like what you see? Visit the ' +\n",
              "            '<a target=\"_blank\" href=https://colab.research.google.com/notebooks/data_table.ipynb>data table notebook</a>'\n",
              "            + ' to learn more about interactive tables.';\n",
              "          element.innerHTML = '';\n",
              "          dataTable['output_type'] = 'display_data';\n",
              "          await google.colab.output.renderOutput(dataTable, element);\n",
              "          const docLink = document.createElement('div');\n",
              "          docLink.innerHTML = docLinkHtml;\n",
              "          element.appendChild(docLink);\n",
              "        }\n",
              "      </script>\n",
              "    </div>\n",
              "  </div>\n",
              "  "
            ]
          },
          "metadata": {},
          "execution_count": 4
        }
      ]
    },
    {
      "cell_type": "code",
      "source": [
        "X=df[['Open','High','Low','Volume']]\n",
        "y= df['Close']"
      ],
      "metadata": {
        "id": "iP-_LkMlh4zy"
      },
      "execution_count": null,
      "outputs": []
    },
    {
      "cell_type": "code",
      "source": [
        "lms=LinearRegression()\n",
        "lms.fit(X,y)"
      ],
      "metadata": {
        "colab": {
          "base_uri": "https://localhost:8080/"
        },
        "id": "UuYOeQlmiddT",
        "outputId": "171aacf9-c7b1-4037-f401-83e8023248c0"
      },
      "execution_count": null,
      "outputs": [
        {
          "output_type": "execute_result",
          "data": {
            "text/plain": [
              "LinearRegression()"
            ]
          },
          "metadata": {},
          "execution_count": 10
        }
      ]
    },
    {
      "cell_type": "code",
      "source": [
        "predictions=lms.predict(X)\n",
        "predictions"
      ],
      "metadata": {
        "colab": {
          "base_uri": "https://localhost:8080/"
        },
        "id": "nL2jRyoXkwjT",
        "outputId": "7ae9d6bc-c2b7-4430-d2b6-7dd877c09168"
      },
      "execution_count": null,
      "outputs": [
        {
          "output_type": "execute_result",
          "data": {
            "text/plain": [
              "array([277.77295703, 277.55667095, 276.681481  , 276.20104006,\n",
              "       269.83258961, 265.39220721, 261.49049292, 263.13892414,\n",
              "       257.51092233, 257.76483109, 253.82429559, 257.01017809,\n",
              "       257.66448864, 264.46673713, 266.71030927, 253.47461822,\n",
              "       250.87199769, 245.94650267, 243.09713409, 243.45838922,\n",
              "       241.25537656, 242.4174617 , 242.93247104, 237.02682743,\n",
              "       240.92320907, 236.72528634, 239.87777642, 235.89100277,\n",
              "       235.22649313, 240.29877273, 249.57684447, 248.4621178 ,\n",
              "       248.52638546, 234.20933612, 228.78425558, 225.89952912,\n",
              "       226.60134817, 233.45328125, 230.60604051, 238.11869056,\n",
              "       236.79978322, 237.05947234, 240.04676433, 241.92932855,\n",
              "       245.22307227, 249.22721792, 235.80235336, 228.59780014,\n",
              "       235.17320475, 232.59089819, 229.11828631, 222.55895824,\n",
              "       215.00306873, 217.53641107, 227.16559642, 228.90893026,\n",
              "       225.96242435, 241.83754173, 246.39818022, 241.20939569,\n",
              "       241.73446426, 241.68665026, 242.64290987, 239.74410662,\n",
              "       244.19010705, 242.69489326, 247.32648032, 248.34453659,\n",
              "       241.8961847 , 239.98012872, 252.6196338 , 253.18326054,\n",
              "       255.28093353, 250.08269968, 245.42687052, 243.8097518 ,\n",
              "       246.79059421, 247.56093049, 251.66405457, 255.50167942,\n",
              "       259.1871515 , 248.22596243, 244.30131472, 239.63080814,\n",
              "       241.75621379, 243.86321148, 235.27784352, 236.81533267,\n",
              "       236.60727409, 237.20092595, 241.41396457, 238.5730603 ,\n",
              "       240.3712112 , 226.91950866, 222.64159404, 222.15299634,\n",
              "       230.86684168, 230.73506282, 235.4017997 , 237.94953043,\n",
              "       237.43844007, 239.86758016, 236.85813363, 232.66379222,\n",
              "       239.74772142, 243.3999492 , 241.83157352, 238.52717247,\n",
              "       246.23448836, 247.83792641, 243.4892197 , 247.04727824,\n",
              "       251.96319512, 262.2936922 , 261.31773583, 255.82686928,\n",
              "       266.91349109, 269.36799025, 263.53983659, 262.94432542,\n",
              "       272.89712999, 271.28956817, 268.33431382, 264.35316117,\n",
              "       256.84498315])"
            ]
          },
          "metadata": {},
          "execution_count": 11
        }
      ]
    },
    {
      "cell_type": "code",
      "source": [
        "from sklearn  import metrics\n",
        "metrics.mean_absolute_error(y,predictions)"
      ],
      "metadata": {
        "colab": {
          "base_uri": "https://localhost:8080/"
        },
        "id": "Hx9BVRlkk4Hi",
        "outputId": "335ab573-2ff2-4d0f-a452-fbc24cc90865"
      },
      "execution_count": null,
      "outputs": [
        {
          "output_type": "execute_result",
          "data": {
            "text/plain": [
              "1.2196987877238525"
            ]
          },
          "metadata": {},
          "execution_count": 13
        }
      ]
    },
    {
      "cell_type": "code",
      "source": [
        "lms.predict([[230,270,260,18000000]])"
      ],
      "metadata": {
        "colab": {
          "base_uri": "https://localhost:8080/"
        },
        "id": "TJ5pJnc2lQsq",
        "outputId": "510e4a16-46ea-4d0b-c2dc-21fd917568c0"
      },
      "execution_count": null,
      "outputs": [
        {
          "output_type": "stream",
          "name": "stderr",
          "text": [
            "/usr/local/lib/python3.8/dist-packages/sklearn/base.py:450: UserWarning: X does not have valid feature names, but LinearRegression was fitted with feature names\n",
            "  warnings.warn(\n"
          ]
        },
        {
          "output_type": "execute_result",
          "data": {
            "text/plain": [
              "array([292.56540541])"
            ]
          },
          "metadata": {},
          "execution_count": 12
        }
      ]
    }
  ]
}