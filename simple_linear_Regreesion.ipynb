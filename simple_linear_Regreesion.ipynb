{
  "nbformat": 4,
  "nbformat_minor": 0,
  "metadata": {
    "colab": {
      "provenance": [],
      "mount_file_id": "1vh0OZP9S0Q8F8JPwNlY59b1lOjUyIGbP",
      "authorship_tag": "ABX9TyNfCe97QSb0rJWd8nx1bzjO",
      "include_colab_link": true
    },
    "kernelspec": {
      "name": "python3",
      "display_name": "Python 3"
    },
    "language_info": {
      "name": "python"
    }
  },
  "cells": [
    {
      "cell_type": "markdown",
      "metadata": {
        "id": "view-in-github",
        "colab_type": "text"
      },
      "source": [
        "<a href=\"https://colab.research.google.com/github/Kuakun55/linear-regression-/blob/main/simple_linear_Regreesion.ipynb\" target=\"_parent\"><img src=\"https://colab.research.google.com/assets/colab-badge.svg\" alt=\"Open In Colab\"/></a>"
      ]
    },
    {
      "cell_type": "code",
      "execution_count": null,
      "metadata": {
        "id": "1bSdDDIneAYT"
      },
      "outputs": [],
      "source": [
        "import pandas as pd\n",
        "import matplotlib.pyplot as plt\n",
        "from sklearn.linear_model import LinearRegression\n",
        "import numpy as np"
      ]
    },
    {
      "cell_type": "code",
      "source": [
        "df=pd.read_csv(\"/content/MSFT.csv\")\n",
        "df"
      ],
      "metadata": {
        "colab": {
          "base_uri": "https://localhost:8080/",
          "height": 424
        },
        "id": "Qcq-TjySlGVL",
        "outputId": "8b8f98a9-8c44-413c-a1ae-fd334f4de028"
      },
      "execution_count": null,
      "outputs": [
        {
          "output_type": "execute_result",
          "data": {
            "text/plain": [
              "           Date        Open        High         Low       Close   Adj Close  \\\n",
              "0    2022-08-22  282.079987  282.459991  277.220001  277.750000  276.277466   \n",
              "1    2022-08-23  276.440002  278.859985  275.399994  276.440002  274.974396   \n",
              "2    2022-08-24  275.410004  277.230011  275.109985  275.790009  274.327850   \n",
              "3    2022-08-25  277.329987  279.019989  274.519989  278.850006  277.371643   \n",
              "4    2022-08-26  279.079987  280.339996  267.980011  268.089996  266.668671   \n",
              "..          ...         ...         ...         ...         ...         ...   \n",
              "120  2023-02-13  267.640015  274.600006  267.149994  271.320007  270.642120   \n",
              "121  2023-02-14  272.670013  274.970001  269.279999  272.170013  271.490021   \n",
              "122  2023-02-15  268.320007  270.730011  266.179993  269.320007  269.320007   \n",
              "123  2023-02-16  264.019989  266.739990  261.899994  262.149994  262.149994   \n",
              "124  2023-02-17  259.390015  260.089996  256.000000  258.059998  258.059998   \n",
              "\n",
              "       Volume  \n",
              "0    25061100  \n",
              "1    17527400  \n",
              "2    18137000  \n",
              "3    16583400  \n",
              "4    27549300  \n",
              "..        ...  \n",
              "120  44630900  \n",
              "121  37047900  \n",
              "122  28962200  \n",
              "123  29603600  \n",
              "124  29979600  \n",
              "\n",
              "[125 rows x 7 columns]"
            ],
            "text/html": [
              "\n",
              "  <div id=\"df-e6d178e2-59a3-48bf-b05c-f605129a35db\">\n",
              "    <div class=\"colab-df-container\">\n",
              "      <div>\n",
              "<style scoped>\n",
              "    .dataframe tbody tr th:only-of-type {\n",
              "        vertical-align: middle;\n",
              "    }\n",
              "\n",
              "    .dataframe tbody tr th {\n",
              "        vertical-align: top;\n",
              "    }\n",
              "\n",
              "    .dataframe thead th {\n",
              "        text-align: right;\n",
              "    }\n",
              "</style>\n",
              "<table border=\"1\" class=\"dataframe\">\n",
              "  <thead>\n",
              "    <tr style=\"text-align: right;\">\n",
              "      <th></th>\n",
              "      <th>Date</th>\n",
              "      <th>Open</th>\n",
              "      <th>High</th>\n",
              "      <th>Low</th>\n",
              "      <th>Close</th>\n",
              "      <th>Adj Close</th>\n",
              "      <th>Volume</th>\n",
              "    </tr>\n",
              "  </thead>\n",
              "  <tbody>\n",
              "    <tr>\n",
              "      <th>0</th>\n",
              "      <td>2022-08-22</td>\n",
              "      <td>282.079987</td>\n",
              "      <td>282.459991</td>\n",
              "      <td>277.220001</td>\n",
              "      <td>277.750000</td>\n",
              "      <td>276.277466</td>\n",
              "      <td>25061100</td>\n",
              "    </tr>\n",
              "    <tr>\n",
              "      <th>1</th>\n",
              "      <td>2022-08-23</td>\n",
              "      <td>276.440002</td>\n",
              "      <td>278.859985</td>\n",
              "      <td>275.399994</td>\n",
              "      <td>276.440002</td>\n",
              "      <td>274.974396</td>\n",
              "      <td>17527400</td>\n",
              "    </tr>\n",
              "    <tr>\n",
              "      <th>2</th>\n",
              "      <td>2022-08-24</td>\n",
              "      <td>275.410004</td>\n",
              "      <td>277.230011</td>\n",
              "      <td>275.109985</td>\n",
              "      <td>275.790009</td>\n",
              "      <td>274.327850</td>\n",
              "      <td>18137000</td>\n",
              "    </tr>\n",
              "    <tr>\n",
              "      <th>3</th>\n",
              "      <td>2022-08-25</td>\n",
              "      <td>277.329987</td>\n",
              "      <td>279.019989</td>\n",
              "      <td>274.519989</td>\n",
              "      <td>278.850006</td>\n",
              "      <td>277.371643</td>\n",
              "      <td>16583400</td>\n",
              "    </tr>\n",
              "    <tr>\n",
              "      <th>4</th>\n",
              "      <td>2022-08-26</td>\n",
              "      <td>279.079987</td>\n",
              "      <td>280.339996</td>\n",
              "      <td>267.980011</td>\n",
              "      <td>268.089996</td>\n",
              "      <td>266.668671</td>\n",
              "      <td>27549300</td>\n",
              "    </tr>\n",
              "    <tr>\n",
              "      <th>...</th>\n",
              "      <td>...</td>\n",
              "      <td>...</td>\n",
              "      <td>...</td>\n",
              "      <td>...</td>\n",
              "      <td>...</td>\n",
              "      <td>...</td>\n",
              "      <td>...</td>\n",
              "    </tr>\n",
              "    <tr>\n",
              "      <th>120</th>\n",
              "      <td>2023-02-13</td>\n",
              "      <td>267.640015</td>\n",
              "      <td>274.600006</td>\n",
              "      <td>267.149994</td>\n",
              "      <td>271.320007</td>\n",
              "      <td>270.642120</td>\n",
              "      <td>44630900</td>\n",
              "    </tr>\n",
              "    <tr>\n",
              "      <th>121</th>\n",
              "      <td>2023-02-14</td>\n",
              "      <td>272.670013</td>\n",
              "      <td>274.970001</td>\n",
              "      <td>269.279999</td>\n",
              "      <td>272.170013</td>\n",
              "      <td>271.490021</td>\n",
              "      <td>37047900</td>\n",
              "    </tr>\n",
              "    <tr>\n",
              "      <th>122</th>\n",
              "      <td>2023-02-15</td>\n",
              "      <td>268.320007</td>\n",
              "      <td>270.730011</td>\n",
              "      <td>266.179993</td>\n",
              "      <td>269.320007</td>\n",
              "      <td>269.320007</td>\n",
              "      <td>28962200</td>\n",
              "    </tr>\n",
              "    <tr>\n",
              "      <th>123</th>\n",
              "      <td>2023-02-16</td>\n",
              "      <td>264.019989</td>\n",
              "      <td>266.739990</td>\n",
              "      <td>261.899994</td>\n",
              "      <td>262.149994</td>\n",
              "      <td>262.149994</td>\n",
              "      <td>29603600</td>\n",
              "    </tr>\n",
              "    <tr>\n",
              "      <th>124</th>\n",
              "      <td>2023-02-17</td>\n",
              "      <td>259.390015</td>\n",
              "      <td>260.089996</td>\n",
              "      <td>256.000000</td>\n",
              "      <td>258.059998</td>\n",
              "      <td>258.059998</td>\n",
              "      <td>29979600</td>\n",
              "    </tr>\n",
              "  </tbody>\n",
              "</table>\n",
              "<p>125 rows × 7 columns</p>\n",
              "</div>\n",
              "      <button class=\"colab-df-convert\" onclick=\"convertToInteractive('df-e6d178e2-59a3-48bf-b05c-f605129a35db')\"\n",
              "              title=\"Convert this dataframe to an interactive table.\"\n",
              "              style=\"display:none;\">\n",
              "        \n",
              "  <svg xmlns=\"http://www.w3.org/2000/svg\" height=\"24px\"viewBox=\"0 0 24 24\"\n",
              "       width=\"24px\">\n",
              "    <path d=\"M0 0h24v24H0V0z\" fill=\"none\"/>\n",
              "    <path d=\"M18.56 5.44l.94 2.06.94-2.06 2.06-.94-2.06-.94-.94-2.06-.94 2.06-2.06.94zm-11 1L8.5 8.5l.94-2.06 2.06-.94-2.06-.94L8.5 2.5l-.94 2.06-2.06.94zm10 10l.94 2.06.94-2.06 2.06-.94-2.06-.94-.94-2.06-.94 2.06-2.06.94z\"/><path d=\"M17.41 7.96l-1.37-1.37c-.4-.4-.92-.59-1.43-.59-.52 0-1.04.2-1.43.59L10.3 9.45l-7.72 7.72c-.78.78-.78 2.05 0 2.83L4 21.41c.39.39.9.59 1.41.59.51 0 1.02-.2 1.41-.59l7.78-7.78 2.81-2.81c.8-.78.8-2.07 0-2.86zM5.41 20L4 18.59l7.72-7.72 1.47 1.35L5.41 20z\"/>\n",
              "  </svg>\n",
              "      </button>\n",
              "      \n",
              "  <style>\n",
              "    .colab-df-container {\n",
              "      display:flex;\n",
              "      flex-wrap:wrap;\n",
              "      gap: 12px;\n",
              "    }\n",
              "\n",
              "    .colab-df-convert {\n",
              "      background-color: #E8F0FE;\n",
              "      border: none;\n",
              "      border-radius: 50%;\n",
              "      cursor: pointer;\n",
              "      display: none;\n",
              "      fill: #1967D2;\n",
              "      height: 32px;\n",
              "      padding: 0 0 0 0;\n",
              "      width: 32px;\n",
              "    }\n",
              "\n",
              "    .colab-df-convert:hover {\n",
              "      background-color: #E2EBFA;\n",
              "      box-shadow: 0px 1px 2px rgba(60, 64, 67, 0.3), 0px 1px 3px 1px rgba(60, 64, 67, 0.15);\n",
              "      fill: #174EA6;\n",
              "    }\n",
              "\n",
              "    [theme=dark] .colab-df-convert {\n",
              "      background-color: #3B4455;\n",
              "      fill: #D2E3FC;\n",
              "    }\n",
              "\n",
              "    [theme=dark] .colab-df-convert:hover {\n",
              "      background-color: #434B5C;\n",
              "      box-shadow: 0px 1px 3px 1px rgba(0, 0, 0, 0.15);\n",
              "      filter: drop-shadow(0px 1px 2px rgba(0, 0, 0, 0.3));\n",
              "      fill: #FFFFFF;\n",
              "    }\n",
              "  </style>\n",
              "\n",
              "      <script>\n",
              "        const buttonEl =\n",
              "          document.querySelector('#df-e6d178e2-59a3-48bf-b05c-f605129a35db button.colab-df-convert');\n",
              "        buttonEl.style.display =\n",
              "          google.colab.kernel.accessAllowed ? 'block' : 'none';\n",
              "\n",
              "        async function convertToInteractive(key) {\n",
              "          const element = document.querySelector('#df-e6d178e2-59a3-48bf-b05c-f605129a35db');\n",
              "          const dataTable =\n",
              "            await google.colab.kernel.invokeFunction('convertToInteractive',\n",
              "                                                     [key], {});\n",
              "          if (!dataTable) return;\n",
              "\n",
              "          const docLinkHtml = 'Like what you see? Visit the ' +\n",
              "            '<a target=\"_blank\" href=https://colab.research.google.com/notebooks/data_table.ipynb>data table notebook</a>'\n",
              "            + ' to learn more about interactive tables.';\n",
              "          element.innerHTML = '';\n",
              "          dataTable['output_type'] = 'display_data';\n",
              "          await google.colab.output.renderOutput(dataTable, element);\n",
              "          const docLink = document.createElement('div');\n",
              "          docLink.innerHTML = docLinkHtml;\n",
              "          element.appendChild(docLink);\n",
              "        }\n",
              "      </script>\n",
              "    </div>\n",
              "  </div>\n",
              "  "
            ]
          },
          "metadata": {},
          "execution_count": 2
        }
      ]
    },
    {
      "cell_type": "code",
      "source": [
        "df.corr()"
      ],
      "metadata": {
        "colab": {
          "base_uri": "https://localhost:8080/",
          "height": 237
        },
        "id": "Gm9yveH3eDeB",
        "outputId": "6c792cac-80ae-4460-cb19-93c4433fad43"
      },
      "execution_count": null,
      "outputs": [
        {
          "output_type": "execute_result",
          "data": {
            "text/plain": [
              "               Open      High       Low     Close  Adj Close    Volume\n",
              "Open       1.000000  0.981200  0.983168  0.949086   0.948081 -0.147304\n",
              "High       0.981200  1.000000  0.982892  0.979772   0.978666 -0.090335\n",
              "Low        0.983168  0.982892  1.000000  0.980208   0.979669 -0.181223\n",
              "Close      0.949086  0.979772  0.980208  1.000000   0.999613 -0.138078\n",
              "Adj Close  0.948081  0.978666  0.979669  0.999613   1.000000 -0.135669\n",
              "Volume    -0.147304 -0.090335 -0.181223 -0.138078  -0.135669  1.000000"
            ],
            "text/html": [
              "\n",
              "  <div id=\"df-c8238908-9308-4e89-99ae-0238ca12cf71\">\n",
              "    <div class=\"colab-df-container\">\n",
              "      <div>\n",
              "<style scoped>\n",
              "    .dataframe tbody tr th:only-of-type {\n",
              "        vertical-align: middle;\n",
              "    }\n",
              "\n",
              "    .dataframe tbody tr th {\n",
              "        vertical-align: top;\n",
              "    }\n",
              "\n",
              "    .dataframe thead th {\n",
              "        text-align: right;\n",
              "    }\n",
              "</style>\n",
              "<table border=\"1\" class=\"dataframe\">\n",
              "  <thead>\n",
              "    <tr style=\"text-align: right;\">\n",
              "      <th></th>\n",
              "      <th>Open</th>\n",
              "      <th>High</th>\n",
              "      <th>Low</th>\n",
              "      <th>Close</th>\n",
              "      <th>Adj Close</th>\n",
              "      <th>Volume</th>\n",
              "    </tr>\n",
              "  </thead>\n",
              "  <tbody>\n",
              "    <tr>\n",
              "      <th>Open</th>\n",
              "      <td>1.000000</td>\n",
              "      <td>0.981200</td>\n",
              "      <td>0.983168</td>\n",
              "      <td>0.949086</td>\n",
              "      <td>0.948081</td>\n",
              "      <td>-0.147304</td>\n",
              "    </tr>\n",
              "    <tr>\n",
              "      <th>High</th>\n",
              "      <td>0.981200</td>\n",
              "      <td>1.000000</td>\n",
              "      <td>0.982892</td>\n",
              "      <td>0.979772</td>\n",
              "      <td>0.978666</td>\n",
              "      <td>-0.090335</td>\n",
              "    </tr>\n",
              "    <tr>\n",
              "      <th>Low</th>\n",
              "      <td>0.983168</td>\n",
              "      <td>0.982892</td>\n",
              "      <td>1.000000</td>\n",
              "      <td>0.980208</td>\n",
              "      <td>0.979669</td>\n",
              "      <td>-0.181223</td>\n",
              "    </tr>\n",
              "    <tr>\n",
              "      <th>Close</th>\n",
              "      <td>0.949086</td>\n",
              "      <td>0.979772</td>\n",
              "      <td>0.980208</td>\n",
              "      <td>1.000000</td>\n",
              "      <td>0.999613</td>\n",
              "      <td>-0.138078</td>\n",
              "    </tr>\n",
              "    <tr>\n",
              "      <th>Adj Close</th>\n",
              "      <td>0.948081</td>\n",
              "      <td>0.978666</td>\n",
              "      <td>0.979669</td>\n",
              "      <td>0.999613</td>\n",
              "      <td>1.000000</td>\n",
              "      <td>-0.135669</td>\n",
              "    </tr>\n",
              "    <tr>\n",
              "      <th>Volume</th>\n",
              "      <td>-0.147304</td>\n",
              "      <td>-0.090335</td>\n",
              "      <td>-0.181223</td>\n",
              "      <td>-0.138078</td>\n",
              "      <td>-0.135669</td>\n",
              "      <td>1.000000</td>\n",
              "    </tr>\n",
              "  </tbody>\n",
              "</table>\n",
              "</div>\n",
              "      <button class=\"colab-df-convert\" onclick=\"convertToInteractive('df-c8238908-9308-4e89-99ae-0238ca12cf71')\"\n",
              "              title=\"Convert this dataframe to an interactive table.\"\n",
              "              style=\"display:none;\">\n",
              "        \n",
              "  <svg xmlns=\"http://www.w3.org/2000/svg\" height=\"24px\"viewBox=\"0 0 24 24\"\n",
              "       width=\"24px\">\n",
              "    <path d=\"M0 0h24v24H0V0z\" fill=\"none\"/>\n",
              "    <path d=\"M18.56 5.44l.94 2.06.94-2.06 2.06-.94-2.06-.94-.94-2.06-.94 2.06-2.06.94zm-11 1L8.5 8.5l.94-2.06 2.06-.94-2.06-.94L8.5 2.5l-.94 2.06-2.06.94zm10 10l.94 2.06.94-2.06 2.06-.94-2.06-.94-.94-2.06-.94 2.06-2.06.94z\"/><path d=\"M17.41 7.96l-1.37-1.37c-.4-.4-.92-.59-1.43-.59-.52 0-1.04.2-1.43.59L10.3 9.45l-7.72 7.72c-.78.78-.78 2.05 0 2.83L4 21.41c.39.39.9.59 1.41.59.51 0 1.02-.2 1.41-.59l7.78-7.78 2.81-2.81c.8-.78.8-2.07 0-2.86zM5.41 20L4 18.59l7.72-7.72 1.47 1.35L5.41 20z\"/>\n",
              "  </svg>\n",
              "      </button>\n",
              "      \n",
              "  <style>\n",
              "    .colab-df-container {\n",
              "      display:flex;\n",
              "      flex-wrap:wrap;\n",
              "      gap: 12px;\n",
              "    }\n",
              "\n",
              "    .colab-df-convert {\n",
              "      background-color: #E8F0FE;\n",
              "      border: none;\n",
              "      border-radius: 50%;\n",
              "      cursor: pointer;\n",
              "      display: none;\n",
              "      fill: #1967D2;\n",
              "      height: 32px;\n",
              "      padding: 0 0 0 0;\n",
              "      width: 32px;\n",
              "    }\n",
              "\n",
              "    .colab-df-convert:hover {\n",
              "      background-color: #E2EBFA;\n",
              "      box-shadow: 0px 1px 2px rgba(60, 64, 67, 0.3), 0px 1px 3px 1px rgba(60, 64, 67, 0.15);\n",
              "      fill: #174EA6;\n",
              "    }\n",
              "\n",
              "    [theme=dark] .colab-df-convert {\n",
              "      background-color: #3B4455;\n",
              "      fill: #D2E3FC;\n",
              "    }\n",
              "\n",
              "    [theme=dark] .colab-df-convert:hover {\n",
              "      background-color: #434B5C;\n",
              "      box-shadow: 0px 1px 3px 1px rgba(0, 0, 0, 0.15);\n",
              "      filter: drop-shadow(0px 1px 2px rgba(0, 0, 0, 0.3));\n",
              "      fill: #FFFFFF;\n",
              "    }\n",
              "  </style>\n",
              "\n",
              "      <script>\n",
              "        const buttonEl =\n",
              "          document.querySelector('#df-c8238908-9308-4e89-99ae-0238ca12cf71 button.colab-df-convert');\n",
              "        buttonEl.style.display =\n",
              "          google.colab.kernel.accessAllowed ? 'block' : 'none';\n",
              "\n",
              "        async function convertToInteractive(key) {\n",
              "          const element = document.querySelector('#df-c8238908-9308-4e89-99ae-0238ca12cf71');\n",
              "          const dataTable =\n",
              "            await google.colab.kernel.invokeFunction('convertToInteractive',\n",
              "                                                     [key], {});\n",
              "          if (!dataTable) return;\n",
              "\n",
              "          const docLinkHtml = 'Like what you see? Visit the ' +\n",
              "            '<a target=\"_blank\" href=https://colab.research.google.com/notebooks/data_table.ipynb>data table notebook</a>'\n",
              "            + ' to learn more about interactive tables.';\n",
              "          element.innerHTML = '';\n",
              "          dataTable['output_type'] = 'display_data';\n",
              "          await google.colab.output.renderOutput(dataTable, element);\n",
              "          const docLink = document.createElement('div');\n",
              "          docLink.innerHTML = docLinkHtml;\n",
              "          element.appendChild(docLink);\n",
              "        }\n",
              "      </script>\n",
              "    </div>\n",
              "  </div>\n",
              "  "
            ]
          },
          "metadata": {},
          "execution_count": 3
        }
      ]
    },
    {
      "cell_type": "code",
      "source": [
        "df.plot(x='Open',y='Adj Close',style='.')\n",
        "plt.ylabel('Close')"
      ],
      "metadata": {
        "colab": {
          "base_uri": "https://localhost:8080/",
          "height": 299
        },
        "id": "yTIJS8BaffsY",
        "outputId": "96741e60-9156-4c69-8d0a-22d86324ffe9"
      },
      "execution_count": null,
      "outputs": [
        {
          "output_type": "execute_result",
          "data": {
            "text/plain": [
              "Text(0, 0.5, 'Close')"
            ]
          },
          "metadata": {},
          "execution_count": 4
        },
        {
          "output_type": "display_data",
          "data": {
            "text/plain": [
              "<Figure size 432x288 with 1 Axes>"
            ],
            "image/png": "[encoded data removed]"
          },
          "metadata": {
            "needs_background": "light"
          }
        }
      ]
    },
    {
      "cell_type": "code",
      "source": [
        "X=df[['Open']]\n",
        "y=df['Close']\n"
      ],
      "metadata": {
        "id": "w41OOLKNdCY7"
      },
      "execution_count": null,
      "outputs": []
    },
    {
      "cell_type": "code",
      "source": [
        "lms=LinearRegression()\n",
        "lms.fit(X,y)"
      ],
      "metadata": {
        "colab": {
          "base_uri": "https://localhost:8080/"
        },
        "id": "kttcil4zb-3B",
        "outputId": "d40de7d4-2b48-4db7-ceb8-c1cafb669199"
      },
      "execution_count": null,
      "outputs": [
        {
          "output_type": "execute_result",
          "data": {
            "text/plain": [
              "LinearRegression()"
            ]
          },
          "metadata": {},
          "execution_count": 11
        }
      ]
    },
    {
      "cell_type": "code",
      "source": [
        "lms.intercept_#b"
      ],
      "metadata": {
        "colab": {
          "base_uri": "https://localhost:8080/"
        },
        "id": "PsYsVZjuMr3H",
        "outputId": "22028757-6105-4997-fc54-cffa4673452c"
      },
      "execution_count": null,
      "outputs": [
        {
          "output_type": "execute_result",
          "data": {
            "text/plain": [
              "18.647405671291125"
            ]
          },
          "metadata": {},
          "execution_count": 12
        }
      ]
    },
    {
      "cell_type": "code",
      "source": [
        "lms.coef_#a"
      ],
      "metadata": {
        "colab": {
          "base_uri": "https://localhost:8080/"
        },
        "id": "sv6tpNAvM0lP",
        "outputId": "bec8a9b3-bd24-4641-eb41-4aaf019a7aad"
      },
      "execution_count": null,
      "outputs": [
        {
          "output_type": "execute_result",
          "data": {
            "text/plain": [
              "array([0.92407256])"
            ]
          },
          "metadata": {},
          "execution_count": 13
        }
      ]
    },
    {
      "cell_type": "code",
      "source": [
        "predictions=lms.predict(X)\n",
        "predictions"
      ],
      "metadata": {
        "colab": {
          "base_uri": "https://localhost:8080/"
        },
        "id": "BMagDZ6ENEL2",
        "outputId": "828b83d2-1620-4fbb-b05c-e6c2ec685b75"
      },
      "execution_count": null,
      "outputs": [
        {
          "output_type": "execute_result",
          "data": {
            "text/plain": [
              "array([279.30978189, 274.0980265 , 273.14623361, 274.92043722,\n",
              "       276.5375642 , 264.31210177, 265.06984774, 263.88703671,\n",
              "       257.86206512, 260.47720618, 255.39480709, 254.00868439,\n",
              "       256.6053403 , 259.36830802, 264.24741022, 257.83434387,\n",
              "       252.92752134, 249.45301313, 244.36136499, 242.70728065,\n",
              "       242.33765717, 244.37061404, 238.45654132, 239.99974065,\n",
              "       237.69880922, 240.40633535, 237.47702718, 239.39909903,\n",
              "       238.84464995, 236.18333114, 245.12834615, 245.96001977,\n",
              "       247.75270945, 241.25648026, 234.00251897, 228.98479757,\n",
              "       226.93335556, 221.80476393, 236.30345041, 236.56220366,\n",
              "       243.41882022, 237.68955925, 236.51599726, 235.56420345,\n",
              "       243.89932871, 247.13358268, 232.26525793, 232.14512388,\n",
              "       227.70958667, 234.6586031 , 235.43483421, 230.68510217,\n",
              "       222.0265321 , 219.67939426, 223.78227828, 229.98279778,\n",
              "       228.75377943, 236.20180243, 243.18780208, 242.26372952,\n",
              "       245.6550749 , 243.00297648, 238.37337849, 243.66831057,\n",
              "       241.7462378 , 243.7422373 , 245.14683222, 247.17978908,\n",
              "       246.04318353, 241.71851654, 240.95154833, 253.24170231,\n",
              "       249.49921953, 251.52292735, 250.42329209, 244.88809282,\n",
              "       244.897328  , 244.76795877, 247.30915831, 260.46795622,\n",
              "       256.25418811, 253.10309697, 248.32564368, 244.91581408,\n",
              "       239.87037142, 241.98650498, 241.58914731, 236.83017916,\n",
              "       239.2235234 , 237.55095391, 236.40509931, 238.77073708,\n",
              "       243.27096584, 233.2909794 , 228.59668894, 224.71558695,\n",
              "       227.90363452, 229.11416773, 232.37614202, 236.04471194,\n",
              "       237.65260282, 238.54895413, 241.87562089, 234.67708824,\n",
              "       235.67508846, 241.44130586, 242.73500191, 235.32393626,\n",
              "       243.79767981, 248.73223745, 244.59238314, 243.61286807,\n",
              "       247.817401  , 257.81587258, 258.48120668, 256.54064783,\n",
              "       259.39602927, 271.10404064, 271.658462  , 260.32010183,\n",
              "       265.96619997, 270.61428311, 266.59456192, 262.62103327,\n",
              "       258.34260134])"
            ]
          },
          "metadata": {},
          "execution_count": 14
        }
      ]
    },
    {
      "cell_type": "code",
      "source": [
        "plt.scatter(X,y,color='black')\n",
        "plt.plot(X,predictions,color='red')"
      ],
      "metadata": {
        "colab": {
          "base_uri": "https://localhost:8080/",
          "height": 282
        },
        "id": "JchbFllJNbbd",
        "outputId": "6e861255-725b-44ab-a66f-47805fb46562"
      },
      "execution_count": null,
      "outputs": [
        {
          "output_type": "execute_result",
          "data": {
            "text/plain": [
              "[<matplotlib.lines.Line2D at 0x7f43d266b160>]"
            ]
          },
          "metadata": {},
          "execution_count": 15
        },
        {
          "output_type": "display_data",
          "data": {
            "text/plain": [
              "<Figure size 432x288 with 1 Axes>"
            ],
            "image/png": "[encoded data removed]"
          },
          "metadata": {
            "needs_background": "light"
          }
        }
      ]
    },
    {
      "cell_type": "code",
      "source": [
        "lms.predict([[200]])"
      ],
      "metadata": {
        "colab": {
          "base_uri": "https://localhost:8080/"
        },
        "id": "24m6AIhcN6PH",
        "outputId": "1f41c97b-9f7b-4fd1-d1bc-f63c9e3d17ed"
      },
      "execution_count": null,
      "outputs": [
        {
          "output_type": "stream",
          "name": "stderr",
          "text": [
            "/usr/local/lib/python3.8/dist-packages/sklearn/base.py:450: UserWarning: X does not have valid feature names, but LinearRegression was fitted with feature names\n",
            "  warnings.warn(\n"
          ]
        },
        {
          "output_type": "execute_result",
          "data": {
            "text/plain": [
              "array([203.46191803])"
            ]
          },
          "metadata": {},
          "execution_count": 16
        }
      ]
    },
    {
      "cell_type": "code",
      "source": [
        "from sklearn  import metrics"
      ],
      "metadata": {
        "id": "jHS2rW-gOOfZ"
      },
      "execution_count": null,
      "outputs": []
    },
    {
      "cell_type": "code",
      "source": [
        "metrics.mean_absolute_error(y,predictions)"
      ],
      "metadata": {
        "colab": {
          "base_uri": "https://localhost:8080/"
        },
        "id": "xE23_3YZPObh",
        "outputId": "1c9c7d02-10ac-4f94-9fc9-15bbbda50b92"
      },
      "execution_count": null,
      "outputs": [
        {
          "output_type": "execute_result",
          "data": {
            "text/plain": [
              "3.3394950764629434"
            ]
          },
          "metadata": {},
          "execution_count": 18
        }
      ]
    }
  ]
}